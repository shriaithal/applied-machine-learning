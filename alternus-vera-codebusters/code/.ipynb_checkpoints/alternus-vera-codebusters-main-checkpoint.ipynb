{
 "cells": [
  {
   "cell_type": "markdown",
   "metadata": {},
   "source": [
    "# Alternus Vera \n",
    "\n",
    "Course code : **CMPE-257** \n",
    "    \n",
    "Group name : **Codebusters**\n",
    "    \n",
    "\n",
    "### Liar Liar Pants on Fire Dataset Description \n",
    "- It has 3 files test, training and valid.\n",
    "- Each file has 14 columns\n",
    "    \n",
    "    Column 1: the ID of the statement ([ID].json).\n",
    "    \n",
    "    Column 2: the label.\n",
    "    \n",
    "    Column 3: the statement.\n",
    "    \n",
    "    Column 4: the subject(s).\n",
    "    \n",
    "    Column 5: the speaker.\n",
    "    \n",
    "    Column 6: the speaker's job title.\n",
    "    \n",
    "    Column 7: the state info.\n",
    "    \n",
    "    Column 8: the party affiliation.\n",
    "    \n",
    "    Column 9-13: the total credit history count, including the current\n",
    "    statement.\n",
    "    \n",
    "        9: barely true counts.\n",
    "        \n",
    "        10: false counts.\n",
    "        \n",
    "        11: half true counts.\n",
    "        \n",
    "        12: mostly true counts.\n",
    "        \n",
    "        13: pants on fire counts.\n",
    "        \n",
    "    Column 14: the context (venue / location of the speech or statement).\n",
    "\n",
    "\n",
    "\n",
    "## Business Problem\n",
    "\n",
    "Fake news problem is too important to ignore especially after recent election of Donald Trump. These news are like malignant tumor that causes moral treats. It is nothing but a nassault on truth. Being impartial about the real news are same as that of a deliberate lies.\n",
    "\n",
    "The main purpose of this project is to identify essential features that can be trusted to predict if a news is fake or not. These features are realted to the news content. Our key classification is to predict if a news is fake or not based on these features. In addition, we are also intended to learn various deep learning and neural networking techniques and compare their performances.\n",
    "\n",
    "\n",
    "We initially as a team performend literature survey on list of features that has so far played major role in popularising a fake news. Each member of the team took one major feature and performed distillation process. We vectorized and came up with embedding vectors. Computed polynomial equation and classified the news articles based on all the below features. \n",
    "\n",
    "\n",
    "### Process Steps: \n",
    "- Load the Data\n",
    "- Distillation Process\n",
    "    - Data Cleaning and Text Preprocessing\n",
    "    - Visualization\n",
    "    - Sentiment Analysis  \n",
    "    - LDA Topic Modelling\n",
    "    - word2Vec Word Embedding \n",
    "    - TF-IDF Vectorization\n",
    "    - Doc2Vec using individual feature\n",
    "- Vector Classification Modeling \n",
    "- Ranking and Importance\n",
    "- Compute Polynomial Equation **[(0.6 *Clickbait) + (0.1 *Sensationalism) + (0.2 *Political Affiliation Feature) + (0.1 *Context)]**\n",
    "- Perform Classification Prediction \n",
    "\n",
    "\n",
    "### Feature Selection\n",
    "**Top Features Selected based on research articles**\n",
    "\n",
    "1. Political Affliation\n",
    "2. Sensationalism\n",
    "3. Clickbait \n",
    "4. Context Modeling   \n",
    "5. Spam  \n",
    "\n",
    "*Other simple features as a part of distillation:*\n",
    "6. Sentiment Analysis \n",
    "7. LDA Topic Modeling  \n",
    "8. Ranking\n",
    "\n",
    "### Contributions:\n",
    "\n",
    "\n",
    "|Features |  Member |\n",
    "|-----|-----|\n",
    "| Political Affliation              |  Anushri| \n",
    "| Sensationalism/Psychology Utility |  Harini |  \n",
    "| Clickbait                         |  Ravi   | \n",
    "| Context Modeling                  |  Sundar | \n",
    "| Spam                              |  All | \n",
    "\n",
    "As a team, we decided on the importance of the factors presented in this paper. We brainstormed on the general pre-processing techniques we did want to use. We also had common visualization methods and similar techniques for evaluating the classification model accuracy. Each of us enriched the dataset with individual features and persisted it in a csv file. Each feature vector is persisted on csv (which is distilled with LDA, sentiment scores). We also came up with a polynomial equation based on the factors and the accuracy scores we received by classification. The polynomial equation is then used to build a model for fake news classification. The **polynomial equation that we have used is (0.6*Clickbait) + (0.1 *Sensationalism) + (0.2*Political Affiliation Feature) + (0.1*Context)**. The final model that we built is a variation of the stack ensemble technique. Stacked generalization is an ensemble method where the models are combined using another machine learning algorithm. The basic idea is to train machine learning algorithms with training dataset and then generate a new dataset with these models. Then this new dataset is used as input for the combined machine learning algorithm. The combined model is then used to predict the fakeness in the corpus. We as a team were able to achieve an accuracy of 57% using the various supervised learning techniques specified in this paper."
   ]
  },
  {
   "cell_type": "code",
   "execution_count": 1,
   "metadata": {},
   "outputs": [],
   "source": [
    "import pandas as pd\n",
    "import numpy as np\n",
    "import seaborn as sns\n",
    "import matplotlib.pyplot as plt\n",
    "from sklearn.metrics import confusion_matrix, f1_score, classification_report\n",
    "from sklearn.metrics import precision_recall_fscore_support as score\n",
    "from sklearn.metrics import confusion_matrix\n",
    "from sklearn.metrics import accuracy_score\n",
    "\n",
    "## ignore warnings\n",
    "def warn(*args, **kwargs):\n",
    "    pass\n",
    "import warnings\n",
    "warnings.warn = warn"
   ]
  },
  {
   "cell_type": "code",
   "execution_count": 2,
   "metadata": {},
   "outputs": [],
   "source": [
    "#Method to load data\n",
    "def load_data(file_name):\n",
    "    #load data\n",
    "    data = pd.read_csv(file_name, sep=',',error_bad_lines=False)\n",
    "    return data"
   ]
  },
  {
   "cell_type": "markdown",
   "metadata": {},
   "source": [
    "#### Political Affiliation ( By: Anushri Srinath Aithal )\n",
    "\n",
    "Recent studies have proven all media have some sort unofficial political affiliation these days: conservative, liberal, libertarian, Republican, Democrat, far right-wing, far left-wing — the list goes on. Political bias/affliation towards certain political parties, political leaders can influence fake news origin.\n",
    "\n",
    "**Feature Engineering: Political Affiliation Vector**\n",
    "\n",
    "1. Data Preprocessing: Stop words, Spell check, Punctuation, Stemming\n",
    "2. Data Visualization: Word Length Distributions, Fake News Label Distribution, Word Cloud Visualization, t-SNE visualization, Political Affiliation Label Visualization\n",
    "2. Custom dictionary based on word frequency\n",
    "3. TF-IDF and Classification on Political Affiliaition Labels\n",
    "4. Doc2Vec and Classification on Political Affiliation Labels\n",
    "5. Distillation by performing Sentiment Analysis\n",
    "6. Distillation by performing LDA. Visualization of topic distribution.\n",
    "6. Distillation by performing Ranking and Visualization.\n",
    "7. Classification of Fake News based on the Political Affiliation vector.\n",
    "\n",
    "I was able to achieve an accuracy of **56%** which is evidently more(without distillation **37%**) than what I have been able to achieve without distillation process."
   ]
  },
  {
   "cell_type": "code",
   "execution_count": 3,
   "metadata": {},
   "outputs": [],
   "source": [
    "#Load Political Affiliation Feature Vector\n",
    "pa_train_vector = load_data('political_affiliation_feature_train.csv')\n",
    "pa_test_vector = load_data('political_affiliation_feature_test.csv')"
   ]
  },
  {
   "cell_type": "code",
   "execution_count": 4,
   "metadata": {},
   "outputs": [],
   "source": [
    "#Load Context Feature vector\n",
    "context_train_vector = load_data('train_contextfeature.csv')\n",
    "context_test_vector = load_data('test_contextfeature.csv')"
   ]
  },
  {
   "cell_type": "code",
   "execution_count": 5,
   "metadata": {},
   "outputs": [],
   "source": [
    "#Load Clickbait Feature vector\n",
    "clickbait_train_vector = load_data('train_clickbaitfeature.csv')\n",
    "clickbait_test_vector = load_data('test_clickbaitfeature.csv')"
   ]
  },
  {
   "cell_type": "markdown",
   "metadata": {},
   "source": [
    "## Sensationalism Feature \n",
    "\n",
    ">  Words aren’t just strings of alphabets sewn together with ink. Words are cues. Words are triggers. Words when used correctly can transform an “eh whatever” into “wow that’s it!”.\n",
    "\n",
    "> Highly emotional words are capable capable of transforming an absolute no into almost yes and a “perhaps” into “for sure”!\n",
    "\n",
    "**Harini Balakrishnan** performed distillation process, vectorized the news article based on sensational classification and predicted the model with 56.35% accuracy and 72% f1-score. \n",
    "\n",
    "\n",
    "#### Load the sensational feature vectors from CSV file "
   ]
  },
  {
   "cell_type": "code",
   "execution_count": 6,
   "metadata": {},
   "outputs": [],
   "source": [
    "#Load Sensationalism Feature vector\n",
    "sensationalism_train_vector = load_data('train_sensational_feature.csv')\n",
    "sensationalism_test_vector = load_data('test_sensational_feature.csv')"
   ]
  },
  {
   "cell_type": "code",
   "execution_count": 7,
   "metadata": {},
   "outputs": [],
   "source": [
    "#Fetch feature vector for each of the factors decided\n",
    "def get_feature_vector(df, column_name):\n",
    "    feature_vector = []\n",
    "    for index,row in df.iterrows():\n",
    "        vector_string = row[column_name].strip(\"[]\")\n",
    "        vector = np.array(vector_string.split(','), dtype=float)\n",
    "        feature_vector.append(vector)\n",
    "    return feature_vector"
   ]
  },
  {
   "cell_type": "code",
   "execution_count": 8,
   "metadata": {},
   "outputs": [],
   "source": [
    "#Represent feature vectors in a polynomial equation. The polynomial equation is (0.6*Clickbait)+(0.1*Sensationalism)+(0.2*Political Affilition Feature)+(0.1*Context Feature).\n",
    "#The weights are decided based on individual classification score.\n",
    "def get_feature_vector_after_polynomial_equation(pa_vector, context_vector, clickbait_vector, sensation_vector):\n",
    "    feature_vector = []\n",
    "    for i in range(len(pa_vector)):\n",
    "        vector1 = np.append(0.1*context_vector[i], 0.2*pa_vector[i])\n",
    "        vector2 = np.append(0.1*sensation_vector[i], 0.6*clickbait_vector[i])\n",
    "        vector = np.append(vector1, vector2)\n",
    "        feature_vector.append(vector)\n",
    "    return feature_vector"
   ]
  },
  {
   "cell_type": "code",
   "execution_count": 9,
   "metadata": {},
   "outputs": [],
   "source": [
    "#Get Political Affiliation feature vector\n",
    "political_affiliation_train_feature_vector = get_feature_vector(pa_train_vector, 'political_affiliation_vector')\n",
    "political_affiliation_test_feature_vector = get_feature_vector(pa_test_vector, 'political_affiliation_vector')"
   ]
  },
  {
   "cell_type": "code",
   "execution_count": 10,
   "metadata": {},
   "outputs": [],
   "source": [
    "#Get Context feature vector\n",
    "context_train_feature_vector = get_feature_vector(context_train_vector, 'context_vector')\n",
    "context_test_feature_vector = get_feature_vector(context_test_vector, 'context_vector')"
   ]
  },
  {
   "cell_type": "code",
   "execution_count": 11,
   "metadata": {},
   "outputs": [],
   "source": [
    "#Get Clickbait feature vector\n",
    "clickbait_train_feature_vector = get_feature_vector(clickbait_train_vector, 'clickbait_vector')\n",
    "clickbait_test_feature_vector = get_feature_vector(clickbait_test_vector, 'clickbait_vector')"
   ]
  },
  {
   "cell_type": "code",
   "execution_count": 12,
   "metadata": {},
   "outputs": [],
   "source": [
    "#Get Sensationalism feature vector\n",
    "sensationalism_train_feature_vector = get_feature_vector(sensationalism_train_vector, 'sensational_vector')\n",
    "sensationalism_test_feature_vector = get_feature_vector(sensationalism_test_vector, 'sensational_vector')"
   ]
  },
  {
   "cell_type": "markdown",
   "metadata": {},
   "source": [
    "## Get polynomial weighted vectors for the fake news classifier\n",
    "\n",
    "Equation: (0.6*Clickbait) + (0.1 *Sensationalism) + (0.2*Political Affiliation Feature) + (0.1*Context)"
   ]
  },
  {
   "cell_type": "markdown",
   "metadata": {},
   "source": [
    "#### Prepare the train and test data for classification "
   ]
  },
  {
   "cell_type": "code",
   "execution_count": 13,
   "metadata": {},
   "outputs": [],
   "source": [
    "#Train data\n",
    "X_feature_train = pd.DataFrame(get_feature_vector_after_polynomial_equation(political_affiliation_train_feature_vector, context_train_feature_vector, clickbait_train_feature_vector, sensationalism_train_feature_vector))\n",
    "X_train = pd.DataFrame(X_feature_train)\n",
    "y_train = pa_train_vector['encoded_label']\n",
    "\n",
    "#Test data\n",
    "X_feature_test = pd.DataFrame(get_feature_vector_after_polynomial_equation(political_affiliation_test_feature_vector, context_test_feature_vector, clickbait_test_feature_vector, sensationalism_test_feature_vector))\n",
    "X_test = pd.DataFrame(X_feature_test)\n",
    "y_test = pa_test_vector['encoded_label']"
   ]
  },
  {
   "cell_type": "markdown",
   "metadata": {},
   "source": [
    "#### Confusion Matrix Visualization Method "
   ]
  },
  {
   "cell_type": "code",
   "execution_count": 14,
   "metadata": {},
   "outputs": [],
   "source": [
    "#Method to calculate model accuracy, precision\n",
    "def estimate_score(y_test, y_pred):\n",
    "    score(y_test, y_pred, average='macro')\n",
    "    precision, recall, fscore, support = score(y_test, y_pred)\n",
    "    \n",
    "    print('accuracy: {}'.format(accuracy_score(y_test,y_pred)*100))\n",
    "    print('precision: {}'.format(precision))\n",
    "    print('recall: {}'.format(recall))\n",
    "    print('fscore: {}'.format(fscore))\n",
    "    print('support: {}'.format(support))\n",
    "    \n",
    "    #Confusion Matrix\n",
    "    cm = confusion_matrix(y_test, y_pred)\n",
    "    sns.heatmap(pd.DataFrame(cm), annot=True, cmap=\"YlGnBu\" ,fmt='g')\n",
    "    plt.tight_layout()\n",
    "    plt.title('Confusion matrix', y=1.1)\n",
    "    plt.ylabel('Actual label')\n",
    "    plt.xlabel('Predicted label')"
   ]
  },
  {
   "cell_type": "markdown",
   "metadata": {},
   "source": [
    "### Logistic Regression Model"
   ]
  },
  {
   "cell_type": "code",
   "execution_count": 15,
   "metadata": {},
   "outputs": [
    {
     "name": "stdout",
     "output_type": "stream",
     "text": [
      "accuracy: 56.9060773480663\n",
      "precision: [0.64       0.56763285]\n",
      "recall: [0.02893309 0.98739496]\n",
      "fscore: [0.05536332 0.7208589 ]\n",
      "support: [553 714]\n"
     ]
    },
    {
     "data": {
      "image/png": "[encoded data removed]",
      "text/plain": [
       "<Figure size 432x288 with 2 Axes>"
      ]
     },
     "metadata": {},
     "output_type": "display_data"
    }
   ],
   "source": [
    "#perform vector classification using Logistic Regression\n",
    "from sklearn.linear_model import  LogisticRegression\n",
    "fake_news_classifier = LogisticRegression(random_state=0, solver='lbfgs', multi_class='multinomial')\n",
    "fake_news_classifier.fit(X_train, y_train)\n",
    "y_pred = fake_news_classifier.predict(X_test)\n",
    "estimate_score(y_test, y_pred)"
   ]
  },
  {
   "cell_type": "markdown",
   "metadata": {},
   "source": [
    "### SVM Classifier Model"
   ]
  },
  {
   "cell_type": "code",
   "execution_count": 16,
   "metadata": {},
   "outputs": [
    {
     "name": "stdout",
     "output_type": "stream",
     "text": [
      "accuracy: 56.353591160220994\n",
      "precision: [0.         0.56353591]\n",
      "recall: [0. 1.]\n",
      "fscore: [0.         0.72084806]\n",
      "support: [553 714]\n"
     ]
    },
    {
     "data": {
      "image/png": "[encoded data removed]",
      "text/plain": [
       "<Figure size 432x288 with 2 Axes>"
      ]
     },
     "metadata": {},
     "output_type": "display_data"
    }
   ],
   "source": [
    "#perform vector classification using SVM\n",
    "from sklearn.svm import SVC\n",
    "fake_news_svm_classifier = SVC(kernel = 'linear', random_state = 42)\n",
    "model = fake_news_svm_classifier.fit(X_train,y_train)\n",
    "y_pred = model.predict(X_test)\n",
    "estimate_score(y_test, y_pred)"
   ]
  },
  {
   "cell_type": "markdown",
   "metadata": {},
   "source": [
    "### Random Forest Classifier Model "
   ]
  },
  {
   "cell_type": "code",
   "execution_count": 17,
   "metadata": {},
   "outputs": [
    {
     "name": "stdout",
     "output_type": "stream",
     "text": [
      "accuracy: 54.775059194948696\n",
      "precision: [0.46212121 0.57028913]\n",
      "recall: [0.22061483 0.80112045]\n",
      "fscore: [0.29865361 0.66627839]\n",
      "support: [553 714]\n"
     ]
    },
    {
     "data": {
      "image/png": "[encoded data removed]",
      "text/plain": [
       "<Figure size 432x288 with 2 Axes>"
      ]
     },
     "metadata": {},
     "output_type": "display_data"
    }
   ],
   "source": [
    "#perform vector classification using Random Classifier\n",
    "from sklearn.ensemble import RandomForestClassifier\n",
    "fake_news_rf_classifier = RandomForestClassifier(n_jobs=-1,n_estimators=200,max_depth=90)\n",
    "model = fake_news_rf_classifier.fit(X_train,y_train)\n",
    "y_pred = model.predict(X_test)\n",
    "estimate_score(y_test, y_pred)"
   ]
  },
  {
   "cell_type": "code",
   "execution_count": 18,
   "metadata": {},
   "outputs": [],
   "source": [
    "predictions = fake_news_rf_classifier.predict_proba(X_test)"
   ]
  },
  {
   "cell_type": "code",
   "execution_count": 19,
   "metadata": {},
   "outputs": [
    {
     "data": {
      "text/plain": [
       "1267"
      ]
     },
     "execution_count": 19,
     "metadata": {},
     "output_type": "execute_result"
    }
   ],
   "source": [
    "len(predictions)"
   ]
  },
  {
   "cell_type": "code",
   "execution_count": null,
   "metadata": {},
   "outputs": [],
   "source": []
  }
 ],
 "metadata": {
  "kernelspec": {
   "display_name": "Python 3",
   "language": "python",
   "name": "python3"
  },
  "language_info": {
   "codemirror_mode": {
    "name": "ipython",
    "version": 3
   },
   "file_extension": ".py",
   "mimetype": "text/x-python",
   "name": "python",
   "nbconvert_exporter": "python",
   "pygments_lexer": "ipython3",
   "version": "3.6.6"
  }
 },
 "nbformat": 4,
 "nbformat_minor": 2
}
